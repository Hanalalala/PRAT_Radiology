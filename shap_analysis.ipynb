{
 "cells": [
  {
   "cell_type": "code",
   "execution_count": null,
   "metadata": {},
   "outputs": [],
   "source": [
    "import pandas as pd\n",
    "from sklearn.svm import SVC\n",
    "from sklearn.model_selection import cross_val_predict\n",
    "from sklearn.metrics import roc_auc_score\n",
    "from sklearn.preprocessing import LabelEncoder\n",
    "from sklearn.model_selection import train_test_split\n",
    "from sklearn.metrics import roc_auc_score\n",
    "from sklearn.preprocessing import StandardScaler\n",
    "from sklearn.model_selection import KFold\n",
    "import os\n",
    "\n",
    "default_folder = r''  # 设置默认文件夹路径\n",
    "\n",
    "# 更改当前工作目录为默认文件夹路径\n",
    "os.chdir(default_folder)\n",
    "\n",
    "# Read data\n",
    "traindata = pd.read_excel(\"\")\n",
    "valdata = pd.read_excel(\"\")\n",
    "testdata = pd.read_excel(\"\")\n",
    "\n",
    "# 将标签转换为数值\n",
    "train_labels = traindata[\"grade\"]\n",
    "val_labels = valdata[\"grade\"]\n",
    "test_labels = testdata[\"grade\"]\n",
    "\n",
    "\n",
    "# Remove the first column\n",
    "traindata = traindata.iloc[:, 1:]\n",
    "valdata = valdata.iloc[:, 1:]\n",
    "testdata = testdata.iloc[:, 1:]\n",
    "\n",
    "# 将数据分为特征和标签\n",
    "train_features = traindata.drop(columns=[\"grade\"])\n",
    "val_features = valdata.drop(columns=[\"grade\"])\n",
    "test_features = testdata.drop(columns=[\"grade\"])\n",
    "\n",
    "# 使用Z-score标准化对特征进行处理\n",
    "scaler = StandardScaler()\n",
    "train_features_scaled = scaler.fit_transform(train_features)\n",
    "val_features_scaled = scaler.transform(val_features)\n",
    "test_features_scaled = scaler.transform(test_features)\n",
    "\n",
    "# Train SVM model\n",
    "#svm_model = SVC(kernel='rbf', C=1, probability=True, random_state=42)\n",
    "svm_model = SVC(kernel='rbf', C=1, gamma=0.01,probability=True, random_state=42)\n",
    "svm_model.fit(train_features_scaled, train_labels)\n",
    "\n",
    "# Predict probabilities on validation and test sets\n",
    "train_pred_prob = svm_model.predict_proba(train_features_scaled)\n",
    "val_pred_prob = svm_model.predict_proba(val_features_scaled)\n",
    "test_pred_prob = svm_model.predict_proba(test_features_scaled)\n",
    "\n",
    "# Calculate ROC AUC scores\n",
    "train_auc = roc_auc_score(train_labels, train_pred_prob[:, 1])\n",
    "val_auc = roc_auc_score(val_labels, val_pred_prob[:, 1])\n",
    "test_auc = roc_auc_score(test_labels, test_pred_prob[:, 1])\n",
    "\n",
    "# Print AUC values for validation and test sets\n",
    "print(\"Train AUC:\",train_auc)\n",
    "print(\"Validation AUC:\", val_auc)\n",
    "print(\"Test AUC:\", test_auc)\n",
    "\n"
   ]
  },
  {
   "cell_type": "code",
   "execution_count": null,
   "metadata": {},
   "outputs": [],
   "source": [
    "import shap\n",
    "import matplotlib.pyplot as plt"
   ]
  },
  {
   "cell_type": "code",
   "execution_count": null,
   "metadata": {},
   "outputs": [],
   "source": [
    "def svm_predict_func(input_data):\n",
    "    return svm_model.predict_proba(input_data)[:, 1]  \n",
    "\n",
    "explainer = shap.Explainer(svm_predict_func, train_features_scaled, feature_names=train_features.columns)\n",
    "\n",
    "shap_values_train = explainer(train_features_scaled)"
   ]
  },
  {
   "cell_type": "code",
   "execution_count": null,
   "metadata": {},
   "outputs": [],
   "source": [
    "# summarize the effects of all the features\n",
    "# Create a figure\n",
    "fig = plt.figure()\n",
    "shap.plots.beeswarm(shap_values_train, show=False)\n",
    "plt.savefig('train_fold1_shap.tiff', dpi=300, format='tiff', bbox_inches='tight')\n",
    "plt.show()"
   ]
  },
  {
   "cell_type": "code",
   "execution_count": null,
   "metadata": {},
   "outputs": [],
   "source": [
    "# 计算SHAP值\n",
    "shap_values_val = explainer(val_features_scaled)\n",
    "import matplotlib.pyplot as plt\n",
    "fig = plt.figure()\n",
    "shap.plots.beeswarm(shap_values_val,show=False)\n",
    "plt.savefig('val_fold5_shap.tiff', dpi=300, format='tiff', bbox_inches='tight')\n",
    "plt.show()"
   ]
  },
  {
   "cell_type": "code",
   "execution_count": null,
   "metadata": {},
   "outputs": [],
   "source": [
    "# visualize the first prediction's explanation\n",
    "shap.plots.waterfall(shap_values_val[0])"
   ]
  },
  {
   "cell_type": "code",
   "execution_count": null,
   "metadata": {},
   "outputs": [],
   "source": [
    "# visualize all the training set predictions\n",
    "force_plot_val=shap.plots.force(shap_values_val)\n",
    "shap.save_html('forceplot_val_fold5.html', force_plot_val)"
   ]
  },
  {
   "cell_type": "code",
   "execution_count": null,
   "metadata": {},
   "outputs": [],
   "source": [
    "# 计算SHAP值\n",
    "shap_values_test = explainer(test_features_scaled)\n",
    "import matplotlib.pyplot as plt\n",
    "shap.plots.beeswarm(shap_values_test)"
   ]
  },
  {
   "cell_type": "code",
   "execution_count": null,
   "metadata": {},
   "outputs": [],
   "source": [
    "# visualize the first prediction's explanation\n",
    "shap.plots.waterfall(shap_values_test[0])"
   ]
  },
  {
   "cell_type": "code",
   "execution_count": null,
   "metadata": {},
   "outputs": [],
   "source": [
    "# visualize all the training set predictions\n",
    "force_plot_test=shap.plots.force(shap_values_test)\n",
    "shap.save_html('', force_plot_test)"
   ]
  }
 ],
 "metadata": {
  "kernelspec": {
   "display_name": "Python 3",
   "language": "python",
   "name": "python3"
  },
  "language_info": {
   "codemirror_mode": {
    "name": "ipython",
    "version": 3
   },
   "file_extension": ".py",
   "mimetype": "text/x-python",
   "name": "python",
   "nbconvert_exporter": "python",
   "pygments_lexer": "ipython3",
   "version": "3.10.4"
  },
  "orig_nbformat": 4
 },
 "nbformat": 4,
 "nbformat_minor": 2
}
